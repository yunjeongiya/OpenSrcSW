{
 "cells": [
  {
   "cell_type": "code",
   "execution_count": 1,
   "id": "c0e06b2d",
   "metadata": {},
   "outputs": [],
   "source": [
    "#실습 6, 7 실행 전 file1 생성 코드\n",
    "file1=open(\"file1.txt\",'w')\n",
    "for i in range(1,11):\n",
    "    data=\"{0} line.\\n\".format(i)\n",
    "    file1.write(data)\n",
    "file1.close()"
   ]
  },
  {
   "cell_type": "code",
   "execution_count": 6,
   "id": "5cacb702",
   "metadata": {},
   "outputs": [
    {
     "name": "stdout",
     "output_type": "stream",
     "text": [
      "cp file1 file2\n"
     ]
    }
   ],
   "source": [
    "#실습 6 copy\n",
    "\n",
    "def copy(original_name, copy_name):\n",
    "    original_file = open(original_name+\".txt\", 'r')\n",
    "    copy_file = open(copy_name+\".txt\", 'w')\n",
    "    original_list=original_file.readlines()\n",
    "    \n",
    "    #copy_file.writelines(original_list)\n",
    "    for line in original_list:\n",
    "        copy_file.write(line)\n",
    "        \n",
    "    original_file.close()\n",
    "    copy_file.close()\n",
    "\n",
    "userinput=input().split(\" \")\n",
    "if userinput[0]==\"cp\":\n",
    "    copy(userinput[1], userinput[2])\n"
   ]
  },
  {
   "cell_type": "code",
   "execution_count": 13,
   "id": "25cc0538",
   "metadata": {},
   "outputs": [
    {
     "name": "stdout",
     "output_type": "stream",
     "text": [
      "wc file2\n",
      "# of lines: 10\n",
      "# of words: 20\n"
     ]
    }
   ],
   "source": [
    "#실습 7 wc\n",
    "def wc(file_name):\n",
    "    file = open(file_name + \".txt\", 'r')\n",
    "    lines = file.readlines()\n",
    "    numlines = len(lines)\n",
    "    numwords = 0\n",
    "    for line in lines:\n",
    "        wordlist=line.split(\" \")\n",
    "        numwords+=len(wordlist)\n",
    "    print(\"# of lines:\", numlines)\n",
    "    print(\"# of words:\", numwords)\n",
    "    \n",
    "    file.close()\n",
    "    \n",
    "userinput=input().split(\" \")\n",
    "if userinput[0] == \"wc\":\n",
    "    wc(userinput[1])"
   ]
  },
  {
   "cell_type": "code",
   "execution_count": 14,
   "id": "5fd6136b",
   "metadata": {},
   "outputs": [],
   "source": [
    "#실습 8 사칙 연산 클래스\n",
    "class Calc:\n",
    "    def sum(self, a, b):\n",
    "        result = a + b\n",
    "        print(\"{0} + {1} = {2} 입니다.\".format(a, b, result))\n",
    "    def sub(self, a, b):\n",
    "        result = a - b\n",
    "        print(\"{0} - {1} = {2} 입니다.\".format(a, b, result))\n",
    "    def multi(self, a, b):\n",
    "        result = a * b\n",
    "        print(\"{0} * {1} = {2} 입니다.\".format(a, b, result))\n",
    "    def divi(self, a, b):\n",
    "        result = a / b\n",
    "        print(\"{0} / {1} = {2} 입니다.\".format(a, b, result))"
   ]
  },
  {
   "cell_type": "code",
   "execution_count": 18,
   "id": "4fc1980c",
   "metadata": {},
   "outputs": [
    {
     "name": "stdout",
     "output_type": "stream",
     "text": [
      "1 + 2 = 3 입니다.\n",
      "5 - 1 = 4 입니다.\n",
      "2 * 3 = 6 입니다.\n",
      "6 / 2 = 3.0 입니다.\n"
     ]
    }
   ],
   "source": [
    "import import_ipynb\n",
    "from week11 import Calc\n",
    "\n",
    "calc = Calc()\n",
    "calc.sum(1,2)\n",
    "calc.sub(5,1)\n",
    "calc.multi(2,3)\n",
    "calc.divi(6,2)"
   ]
  },
  {
   "cell_type": "code",
   "execution_count": 1,
   "id": "dd75b308",
   "metadata": {},
   "outputs": [],
   "source": [
    "#실습 9 계산기\n",
    "\n",
    "class Stack:\n",
    "    def __init__ (self):\n",
    "        self.items = []\n",
    "\n",
    "    def is_empty(self):\n",
    "        if len(self.items)==0:\n",
    "            return True\n",
    "        else:\n",
    "            return False\n",
    "\n",
    "    def push(self, item):\n",
    "        self.items.append(item)\n",
    "\n",
    "    def pop(self):\n",
    "        if self.is_empty():\n",
    "            print(\"Stack is Empty!\")\n",
    "        else:\n",
    "            return self.items.pop()"
   ]
  },
  {
   "cell_type": "code",
   "execution_count": 8,
   "id": "27c76b2e",
   "metadata": {},
   "outputs": [
    {
     "name": "stdout",
     "output_type": "stream",
     "text": [
      "계산식 입력: 1 + 2 - 3 * 4 + 5\n",
      "계산식 출력: 1+2-3*4+5=-4\n"
     ]
    }
   ],
   "source": [
    "import import_ipynb\n",
    "from week11 import Stack\n",
    "\n",
    "def calc(op, a, b):\n",
    "    if op == \"+\":\n",
    "        return b+a\n",
    "    elif op == \"-\":\n",
    "        return b-a\n",
    "    elif op == \"*\":\n",
    "        return b*a\n",
    "    elif op == \"/\":\n",
    "        return b/a\n",
    "\n",
    "def operate_to_empty(OP, NUM):\n",
    "    while (not OP.is_empty()):\n",
    "        NUM.push(calc(OP.pop(), NUM.pop(), NUM.pop()))\n",
    "\n",
    "def make_int_if_possible(num):\n",
    "    if int(num) == num:\n",
    "        return int(num)\n",
    "    else:\n",
    "        return num\n",
    "\n",
    "if __name__ == \"__main__\":\n",
    "    equation = input(\"계산식 입력: \").split(\" \")\n",
    "\n",
    "    NUM = Stack()\n",
    "    OP = Stack()\n",
    "\n",
    "    for item in equation:\n",
    "        if item == \"*\" or item == \"/\":\n",
    "            OP.push(item)\n",
    "\n",
    "        elif item == \"+\" or item == \"-\":\n",
    "            if not OP.is_empty():\n",
    "                operate_to_empty(OP, NUM)\n",
    "            OP.push(item)\n",
    "        else:\n",
    "            NUM.push(float(item))\n",
    "        #print(NUM.items, OP.items)\n",
    "\n",
    "    operate_to_empty(OP, NUM)\n",
    "    #print(NUM.items, OP.items)\n",
    "\n",
    "    result = str(make_int_if_possible(NUM.pop()))\n",
    "    print(\"계산식 출력: \" + \"\".join(equation) + \"=\" + result)"
   ]
  }
 ],
 "metadata": {
  "kernelspec": {
   "display_name": "Python 3",
   "language": "python",
   "name": "python3"
  },
  "language_info": {
   "codemirror_mode": {
    "name": "ipython",
    "version": 3
   },
   "file_extension": ".py",
   "mimetype": "text/x-python",
   "name": "python",
   "nbconvert_exporter": "python",
   "pygments_lexer": "ipython3",
   "version": "3.9.5"
  }
 },
 "nbformat": 4,
 "nbformat_minor": 5
}
