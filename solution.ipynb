{
 "cells": [
  {
   "cell_type": "code",
   "execution_count": 12,
   "id": "d23005b5",
   "metadata": {},
   "outputs": [
    {
     "name": "stdout",
     "output_type": "stream",
     "text": [
      "(1, 2)\n",
      "(3, 4)\n",
      "(4, 6)\n"
     ]
    }
   ],
   "source": [
    "class Point:\n",
    "    def __init__ (self, x, y):\n",
    "        self.x = int(x)\n",
    "        self.y = int(y)\n",
    "    def show(self):\n",
    "        print(\"(\" + str(self.x) + \", \" + str(self.y) + \")\")\n",
    "    def __add__ (self, point):\n",
    "        self.x += point.x\n",
    "        self.y += point.y\n",
    "        return self\n",
    "    \n",
    "    \n",
    "a = Point(1,2)\n",
    "a.show()\n",
    "\n",
    "b = Point(3,4)\n",
    "b.show()\n",
    "\n",
    "a = a+b\n",
    "a.show()"
   ]
  },
  {
   "cell_type": "code",
   "execution_count": 78,
   "id": "41f41ac5",
   "metadata": {},
   "outputs": [
    {
     "ename": "AttributeError",
     "evalue": "'int' object has no attribute 'split'",
     "output_type": "error",
     "traceback": [
      "\u001b[1;31m---------------------------------------------------------------------------\u001b[0m",
      "\u001b[1;31mAttributeError\u001b[0m                            Traceback (most recent call last)",
      "\u001b[1;32m<ipython-input-78-365732904a09>\u001b[0m in \u001b[0;36m<module>\u001b[1;34m\u001b[0m\n\u001b[0;32m     18\u001b[0m         \u001b[0mgap\u001b[0m \u001b[1;33m=\u001b[0m \u001b[1;36m0\u001b[0m\u001b[1;33m\u001b[0m\u001b[1;33m\u001b[0m\u001b[0m\n\u001b[0;32m     19\u001b[0m \u001b[1;33m\u001b[0m\u001b[0m\n\u001b[1;32m---> 20\u001b[1;33m \u001b[0mmax_date_end\u001b[0m \u001b[1;33m=\u001b[0m \u001b[0mmax_date_end\u001b[0m\u001b[1;33m.\u001b[0m\u001b[0msplit\u001b[0m\u001b[1;33m(\u001b[0m\u001b[1;34m'-'\u001b[0m\u001b[1;33m)\u001b[0m\u001b[1;33m[\u001b[0m\u001b[1;33m-\u001b[0m\u001b[1;36m1\u001b[0m\u001b[1;33m]\u001b[0m\u001b[1;33m\u001b[0m\u001b[1;33m\u001b[0m\u001b[0m\n\u001b[0m\u001b[0;32m     21\u001b[0m \u001b[0mmax_date_start\u001b[0m \u001b[1;33m=\u001b[0m \u001b[0mstr\u001b[0m\u001b[1;33m(\u001b[0m\u001b[0mint\u001b[0m\u001b[1;33m(\u001b[0m\u001b[0mmax_date_end\u001b[0m\u001b[1;33m)\u001b[0m \u001b[1;33m-\u001b[0m \u001b[1;36m7\u001b[0m\u001b[1;33m)\u001b[0m\u001b[1;33m\u001b[0m\u001b[1;33m\u001b[0m\u001b[0m\n\u001b[0;32m     22\u001b[0m \u001b[1;33m\u001b[0m\u001b[0m\n",
      "\u001b[1;31mAttributeError\u001b[0m: 'int' object has no attribute 'split'"
     ]
    }
   ],
   "source": [
    "import csv\n",
    "f = open('seoul.csv', 'r', encoding = 'cp949')\n",
    "data = csv.reader(f, delimiter=',')\n",
    "header = next(data)\n",
    "\n",
    "gap = 0\n",
    "max_gap = -999\n",
    "\n",
    "for row in data:\n",
    "    i = 0\n",
    "    gap += ( float(row[-1]) - float(row[-2]) )\n",
    "    i+=1\n",
    "    if i == 6:\n",
    "        if gap > max_gap:\n",
    "            max_gap = gap\n",
    "            max_date_end = row[0]\n",
    "        gap = 0\n",
    "    \n",
    "max_date_end = max_date_end.split('-')[-1]\n",
    "max_date_start = str(int(max_date_end) - 7)\n",
    "\n",
    "print(\"Max Week = \"+\"5/\"+max_date_start+\" ~ \"+\"5/\"+max_date_end)"
   ]
  },
  {
   "cell_type": "code",
   "execution_count": 70,
   "id": "88c357a4",
   "metadata": {},
   "outputs": [
    {
     "data": {
      "image/png": "[encoded data removed]",
      "text/plain": [
       "<Figure size 432x288 with 1 Axes>"
      ]
     },
     "metadata": {
      "needs_background": "light"
     },
     "output_type": "display_data"
    }
   ],
   "source": [
    "import matplotlib.pyplot as plt\n",
    "import numpy as np\n",
    "\n",
    "docs = np.array([1, 1, 0, 1, 0, 1, 1, 1, 1, 0, 1, 0, 1, 1, 0, 1, 0, 0]).reshape(3,6)\n",
    "query = np.array([1, 1, 0, 0, 1, 0])\n",
    "\n",
    "def get_size(arr):\n",
    "    for i in range(np.size(arr)):\n",
    "        arr[i] = arr[i] ** 2\n",
    "    return np.sum(np.sqrt(query))\n",
    "\n",
    "cossim = [0, 0, 0]\n",
    "for i in range(3):\n",
    "    cossim[i] = np.dot(docs[i], query.T) / (get_size(docs[i] * get_size(query)))\n",
    "\n",
    "plt.title(\"Cosine similarities\")\n",
    "\n",
    "plt.bar([\"doc1={0:.2f}\".format(cossim[0]), \n",
    "         \"doc2={0:.2f}\".format(cossim[1]), \n",
    "         \"doc3={0:.2f}\".format(cossim[2])], cossim)\n",
    "plt.show()"
   ]
  }
 ],
 "metadata": {
  "kernelspec": {
   "display_name": "Python 3",
   "language": "python",
   "name": "python3"
  },
  "language_info": {
   "codemirror_mode": {
    "name": "ipython",
    "version": 3
   },
   "file_extension": ".py",
   "mimetype": "text/x-python",
   "name": "python",
   "nbconvert_exporter": "python",
   "pygments_lexer": "ipython3",
   "version": "3.9.5"
  }
 },
 "nbformat": 4,
 "nbformat_minor": 5
}
