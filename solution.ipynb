{
 "cells": [
  {
   "cell_type": "code",
   "execution_count": 12,
   "id": "c315f641",
   "metadata": {},
   "outputs": [
    {
     "name": "stdout",
     "output_type": "stream",
     "text": [
      "(1, 2)\n",
      "(3, 4)\n",
      "(4, 6)\n"
     ]
    }
   ],
   "source": [
    "class Point:\n",
    "    def __init__ (self, x, y):\n",
    "        self.x = int(x)\n",
    "        self.y = int(y)\n",
    "    def show(self):\n",
    "        print(\"(\" + str(self.x) + \", \" + str(self.y) + \")\")\n",
    "    def __add__ (self, point):\n",
    "        self.x += point.x\n",
    "        self.y += point.y\n",
    "        return self\n",
    "    \n",
    "    \n",
    "a = Point(1,2)\n",
    "a.show()\n",
    "\n",
    "b = Point(3,4)\n",
    "b.show()\n",
    "\n",
    "a = a+b\n",
    "a.show()"
   ]
  },
  {
   "cell_type": "code",
   "execution_count": 101,
   "id": "b1f62015",
   "metadata": {},
   "outputs": [
    {
     "name": "stdout",
     "output_type": "stream",
     "text": [
      "Max Week = 5/8 ~ 5/14\n"
     ]
    }
   ],
   "source": [
    "import csv\n",
    "f = open('seoul.csv', 'r', encoding = 'cp949')\n",
    "data = csv.reader(f, delimiter=',')\n",
    "header = next(data)\n",
    "\n",
    "gap = 0\n",
    "max_gap = -999\n",
    "\n",
    "i = 0\n",
    "for row in data:\n",
    "    gap += ( float(row[-1]) - float(row[-2]))\n",
    "    i+=1\n",
    "    if i == 7:\n",
    "        if gap > max_gap:\n",
    "            max_gap = gap\n",
    "            max_date_end = row[0]\n",
    "        gap = 0\n",
    "        i = 0\n",
    "\n",
    "max_date_end = max_date_end.split('-')[-1]\n",
    "max_date_start = str(int(max_date_end) -6)\n",
    "\n",
    "print(\"Max Week = \"+\"5/\"+max_date_start+\" ~ \"+\"5/\"+max_date_end)"
   ]
  },
  {
   "cell_type": "code",
   "execution_count": 92,
   "id": "710dca51",
   "metadata": {},
   "outputs": [
    {
     "data": {
      "image/png": "[encoded data removed]",
      "text/plain": [
       "<Figure size 432x288 with 1 Axes>"
      ]
     },
     "metadata": {
      "needs_background": "light"
     },
     "output_type": "display_data"
    }
   ],
   "source": [
    "import matplotlib.pyplot as plt\n",
    "import numpy as np\n",
    "\n",
    "docs = np.array([1, 1, 0, 1, 0, 1, 1, 1, 1, 0, 1, 0, 1, 1, 0, 1, 0, 0]).reshape(3,6)\n",
    "query = np.array([1, 1, 0, 0, 1, 0])\n",
    "\n",
    "def get_size(arr):\n",
    "    for i in range(np.size(arr)):\n",
    "        arr[i] = arr[i] ** 2\n",
    "    return np.sqrt(np.sum(arr))\n",
    "\n",
    "cossim = [0, 0, 0]\n",
    "for i in range(3):\n",
    "    cossim[i] = np.dot(docs[i], query.T) / (get_size(docs[i]) * get_size(query))\n",
    "\n",
    "plt.title(\"Cosine similarities\")\n",
    "\n",
    "plt.bar([\"doc1={0:.2f}\".format(cossim[0]), \n",
    "         \"doc2={0:.2f}\".format(cossim[1]), \n",
    "         \"doc3={0:.2f}\".format(cossim[2])], cossim)\n",
    "plt.show()"
   ]
  }
 ],
 "metadata": {
  "kernelspec": {
   "display_name": "Python 3",
   "language": "python",
   "name": "python3"
  },
  "language_info": {
   "codemirror_mode": {
    "name": "ipython",
    "version": 3
   },
   "file_extension": ".py",
   "mimetype": "text/x-python",
   "name": "python",
   "nbconvert_exporter": "python",
   "pygments_lexer": "ipython3",
   "version": "3.9.5"
  }
 },
 "nbformat": 4,
 "nbformat_minor": 5
}
