{
 "cells": [
  {
   "cell_type": "code",
   "execution_count": 9,
   "id": "750af10f",
   "metadata": {},
   "outputs": [
    {
     "name": "stdout",
     "output_type": "stream",
     "text": [
      "y=3x^2+5x+3\n",
      "x 값을 입력하세요 : 2\n",
      "y = 25\n"
     ]
    }
   ],
   "source": [
    "print(\"y=3x^2+5x+3\")\n",
    "x=int(input(\"방정식에 대입할 x 값을 입력하세요: \"))\n",
    "y = 3*(x**2)+5*x+3\n",
    "print(\"y =\", y)"
   ]
  },
  {
   "cell_type": "code",
   "execution_count": 17,
   "id": "185d096f",
   "metadata": {},
   "outputs": [
    {
     "name": "stdout",
     "output_type": "stream",
     "text": [
      "반지름을 입력하세요: 3\n",
      "원의 둘레: 18.84\n",
      "원의 넓이: 28.26\n"
     ]
    }
   ],
   "source": [
    "pi=3.14\n",
    "r=int(input(\"반지름을 입력하세요: \"))\n",
    "cir=2*pi*r\n",
    "area=pi*(r**2)\n",
    "print(\"원의 둘레:\", cir)\n",
    "print(\"원의 넓이:\", area)"
   ]
  }
 ],
 "metadata": {
  "kernelspec": {
   "display_name": "Python 3",
   "language": "python",
   "name": "python3"
  },
  "language_info": {
   "codemirror_mode": {
    "name": "ipython",
    "version": 3
   },
   "file_extension": ".py",
   "mimetype": "text/x-python",
   "name": "python",
   "nbconvert_exporter": "python",
   "pygments_lexer": "ipython3",
   "version": "3.9.4"
  }
 },
 "nbformat": 4,
 "nbformat_minor": 5
}
