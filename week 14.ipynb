{
 "cells": [
  {
   "cell_type": "code",
   "execution_count": 1,
   "id": "3d00518c",
   "metadata": {},
   "outputs": [
    {
     "data": {
      "image/png": "[encoded data removed]",
      "text/plain": [
       "<Figure size 432x288 with 1 Axes>"
      ]
     },
     "metadata": {},
     "output_type": "display_data"
    }
   ],
   "source": [
    "import numpy as np\n",
    "import pandas as pd\n",
    "import math as m\n",
    "import matplotlib.pyplot as plt\n",
    "\n",
    "df = pd.read_csv(\"D:\\\\구글드라이브\\\\2021\\\\1학기\\\\오픈소스sw입문\\\\과제\\\\population.csv\", delimiter=',', encoding = 'cp949', header = 0, index_col = 0)\n",
    "df = df.iloc[1:,2:] #1행(서울시 전체인구), 1,2열(계) 제외\n",
    "\n",
    "for i in df.columns: #int형으로 값 변환\n",
    "    for j in df.index:\n",
    "            num = df[i][j].replace(\",\",\"\")\n",
    "            df[i][j] = int(num)\n",
    "\n",
    "gwangjin = \"서울특별시 광진구 (1121500000)\"\n",
    "df['standard deviation'] = np.mean((df-df.loc[gwangjin])**2, axis=1)\n",
    "df1 = df.drop(index = gwangjin, axis = 0)\n",
    "max = df1['standard deviation'].idxmax(axis=0)\n",
    "min = df1['standard deviation'].idxmin(axis=0)\n",
    "\n",
    "age = np.arange(102)\n",
    "plt.style.use('ggplot')\n",
    "plt.rc('font', family='Malgun Gothic')\n",
    "plt.title('신도림 지역의 남녀 성별 인구 분포')\n",
    "plt.plot(age, df.loc[gwangjin], label=gwangjin)\n",
    "plt.plot(age, df.loc[min], label=\"{0}\\n 표준편차: {1}\".format(min, m.sqrt(df['standard deviation'][min])))\n",
    "plt.plot(age, df.loc[max], label=\"{0}\\n 표준편차: {1}\".format(max, m.sqrt(df['standard deviation'][max])))\n",
    "plt.show()"
   ]
  }
 ],
 "metadata": {
  "kernelspec": {
   "display_name": "Python 3",
   "language": "python",
   "name": "python3"
  },
  "language_info": {
   "codemirror_mode": {
    "name": "ipython",
    "version": 3
   },
   "file_extension": ".py",
   "mimetype": "text/x-python",
   "name": "python",
   "nbconvert_exporter": "python",
   "pygments_lexer": "ipython3",
   "version": "3.9.5"
  }
 },
 "nbformat": 4,
 "nbformat_minor": 5
}
